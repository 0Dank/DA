{
 "cells": [
  {
   "cell_type": "code",
   "execution_count": 1,
   "id": "be42217c-382b-4cbb-a77a-84dcd522d8d2",
   "metadata": {},
   "outputs": [
    {
     "name": "stdout",
     "output_type": "stream",
     "text": [
      "test1 test1\n",
      "test2 test2\n",
      "Var's(readline) type - String\n",
      "Var(readline) - test1 test1\n",
      "Var's(readlines) type - Vector{String}\n",
      "Var(readlines) - [\"test1 test1\", \"test2 test2\"]\n",
      "Matrix via readdlm: \n",
      "[\"test1\" \"test1\"; \"test2\" \"test2\"]\n",
      "2nd file - [\"test3\"]\n",
      "edited 2nd file - [\"test3\"]\n",
      "x = -2\n",
      "y = 3\n",
      "\n"
     ]
    }
   ],
   "source": [
    "using DelimitedFiles\n",
    "\n",
    "println(read(\"example.txt\", String))\n",
    "foo = readline(\"example.txt\")\n",
    "println(\"Var's(readline) type - \", typeof(foo))\n",
    "println(\"Var(readline) - \", foo)\n",
    "foo = readlines(\"example.txt\")\n",
    "println(\"Var's(readlines) type - \", typeof(foo))\n",
    "println(\"Var(readlines) - \", foo)\n",
    "println(\"Matrix via readdlm: \\n\", readdlm(\"example.txt\", String))\n",
    "println(\"2nd file - \", readlines(\"example2.txt\"))\n",
    "foo = \"test3\"\n",
    "write(\"example2.txt\", foo)\n",
    "println(\"edited 2nd file - \", readlines(\"example2.txt\"))\n",
    "y = 3\n",
    "x = -2\n",
    "\n",
    "struct MyData\n",
    "    x::Int\n",
    "    y::Int\n",
    "end\n",
    "\n",
    "function Base.show(io::IO, data::MyData)\n",
    "    println(io, \"x = $(data.x)\")\n",
    "    println(io, \"y = $(data.y)\")\n",
    "end\n",
    "\n",
    "data = MyData(x, y)\n",
    "println(data)"
   ]
  },
  {
   "cell_type": "code",
   "execution_count": 2,
   "id": "0cabb215-7109-4d49-b8c7-c77ab1451ecb",
   "metadata": {},
   "outputs": [
    {
     "data": {
      "text/plain": [
       "15"
      ]
     },
     "execution_count": 2,
     "metadata": {},
     "output_type": "execute_result"
    }
   ],
   "source": [
    "foo = \"F\"\n",
    "parse(Int, foo, base=16)"
   ]
  },
  {
   "cell_type": "code",
   "execution_count": 3,
   "id": "28eeb93a-3d45-43bf-b6df-1621441c94e8",
   "metadata": {},
   "outputs": [
    {
     "name": "stdout",
     "output_type": "stream",
     "text": [
      "id op: -2\n",
      "add inv map: 2\n",
      "add: 5\n",
      "sub: -1\n",
      "mul: 6\n",
      "div: 0.6666666666666666\n",
      "int div: 0\n",
      "inv div: 1.5\n",
      "pow: 8\n",
      "rem: 2\n",
      "bitwise NOT - -3\n",
      "bitwise AND - 2\n",
      "bitwise OR - 3\n",
      "bitwise XOR - 1\n",
      "bitwise NAND - -3\n",
      "bitwise NOR - -4\n",
      "logical AND - false\n",
      "logical OR - true\n",
      "logical NOT - false\n"
     ]
    }
   ],
   "source": [
    "x = +x\n",
    "println(\"id op: \", x)\n",
    "x=-x\n",
    "println(\"add inv map: \", x)\n",
    "println(\"add: \", x+y)\n",
    "println(\"sub: \", x-y)\n",
    "println(\"mul: \", x*y)\n",
    "println(\"div: \", x/y)\n",
    "println(\"int div: \", x÷y)\n",
    "println(\"inv div: \", x\\y)\n",
    "println(\"pow: \", x^y)\n",
    "println(\"rem: \", x%y)\n",
    "println(\"bitwise NOT - \", ~x)\n",
    "println(\"bitwise AND - \", x & y)\n",
    "println(\"bitwise OR - \", x | y)\n",
    "println(\"bitwise XOR - \", x ⊻ y)\n",
    "println(\"bitwise NAND - \", x ⊼ y)\n",
    "println(\"bitwise NOR - \", x ⊽ y)\n",
    "\n",
    "a = true \n",
    "b = false \n",
    "println(\"logical AND - \", a && b) \n",
    "println(\"logical OR - \", a || b) \n",
    "println(\"logical NOT - \", ! a) "
   ]
  },
  {
   "cell_type": "code",
   "execution_count": 16,
   "id": "badab860-a640-4e7e-9470-e6c0942097e6",
   "metadata": {},
   "outputs": [
    {
     "name": "stdout",
     "output_type": "stream",
     "text": [
      "matrix add: [8 10; 14 16]\n",
      "matrix sub: [-6 -6; -6 -6]\n",
      "transopsed matrix: [1 4; 2 5]\n",
      "matrix mul: [2 4; 8 10]\n",
      "matrix mul: [32, 95]\n"
     ]
    }
   ],
   "source": [
    "A = [1 2; 4 5]\n",
    "B = [7 8; 10 11]\n",
    "C = [10 ; 11]\n",
    "println(\"matrix add: \", A + B)\n",
    "println(\"matrix sub: \", A - B)\n",
    "println(\"transopsed matrix: \", transpose(A))\n",
    "println(\"matrix mul: \", A * 2)\n",
    "println(\"matrix mul: \", A * C)"
   ]
  },
  {
   "cell_type": "code",
   "execution_count": null,
   "id": "d53bf613-df75-44ea-8941-596665c6ff9f",
   "metadata": {},
   "outputs": [],
   "source": []
  }
 ],
 "metadata": {
  "kernelspec": {
   "display_name": "Julia 1.9.3",
   "language": "julia",
   "name": "julia-1.9"
  },
  "language_info": {
   "file_extension": ".jl",
   "mimetype": "application/julia",
   "name": "julia",
   "version": "1.9.3"
  }
 },
 "nbformat": 4,
 "nbformat_minor": 5
}
