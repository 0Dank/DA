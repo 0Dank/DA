{
 "cells": [
  {
   "cell_type": "code",
   "execution_count": 27,
   "id": "47afe927-e179-4fbd-9d89-1e0e76d4d6fd",
   "metadata": {},
   "outputs": [
    {
     "name": "stdout",
     "output_type": "stream",
     "text": [
      "For cycle:\n",
      "1->1 2->4 3->9 4->16 5->25 6->36 7->49 8->64 9->81 10->100 11->121 12->144 13->169 14->196 15->225 16->256 17->289 18->324 19->361 20->400 21->441 22->484 23->529 24->576 25->625 26->676 27->729 28->784 29->841 30->900 31->961 32->1024 33->1089 34->1156 35->1225 36->1296 37->1369 38->1444 39->1521 40->1600 41->1681 42->1764 43->1849 44->1936 45->2025 46->2116 47->2209 48->2304 49->2401 50->2500 51->2601 52->2704 53->2809 54->2916 55->3025 56->3136 57->3249 58->3364 59->3481 60->3600 61->3721 62->3844 63->3969 64->4096 65->4225 66->4356 67->4489 68->4624 69->4761 70->4900 71->5041 72->5184 73->5329 74->5476 75->5625 76->5776 77->5929 78->6084 79->6241 80->6400 81->6561 82->6724 83->6889 84->7056 85->7225 86->7396 87->7569 88->7744 89->7921 90->8100 91->8281 92->8464 93->8649 94->8836 95->9025 96->9216 97->9409 98->9604 99->9801 100->10000 \n",
      "\n",
      "While cycle:\n",
      "1->1 2->4 3->9 4->16 5->25 6->36 7->49 8->64 9->81 10->100 11->121 12->144 13->169 14->196 15->225 16->256 17->289 18->324 19->361 20->400 21->441 22->484 23->529 24->576 25->625 26->676 27->729 28->784 29->841 30->900 31->961 32->1024 33->1089 34->1156 35->1225 36->1296 37->1369 38->1444 39->1521 40->1600 41->1681 42->1764 43->1849 44->1936 45->2025 46->2116 47->2209 48->2304 49->2401 50->2500 51->2601 52->2704 53->2809 54->2916 55->3025 56->3136 57->3249 58->3364 59->3481 60->3600 61->3721 62->3844 63->3969 64->4096 65->4225 66->4356 67->4489 68->4624 69->4761 70->4900 71->5041 72->5184 73->5329 74->5476 75->5625 76->5776 77->5929 78->6084 79->6241 80->6400 81->6561 82->6724 83->6889 84->7056 85->7225 86->7396 87->7569 88->7744 89->7921 90->8100 91->8281 92->8464 93->8649 94->8836 95->9025 96->9216 97->9409 98->9604 99->9801 100->10000 \n",
      "\n",
      "Squares dict:\n",
      "Dict(5 => 25, 16 => 256, 20 => 400, 12 => 144, 8 => 64, 17 => 289, 1 => 1, 19 => 361, 6 => 36, 11 => 121, 9 => 81, 14 => 196, 3 => 9, 7 => 49, 4 => 16, 13 => 169, 15 => 225, 2 => 4, 10 => 100, 18 => 324)\n",
      "\n",
      "Squares array:\n",
      "Any[1, 4, 9, 16, 25, 36, 49, 64, 81, 100, 121, 144, 169, 196, 225, 256, 289, 324, 361, 400, 441, 484, 529, 576, 625, 676, 729, 784, 841, 900, 961, 1024, 1089, 1156, 1225, 1296, 1369, 1444, 1521, 1600, 1681, 1764, 1849, 1936, 2025, 2116, 2209, 2304, 2401, 2500, 2601, 2704, 2809, 2916, 3025, 3136, 3249, 3364, 3481, 3600, 3721, 3844, 3969, 4096, 4225, 4356, 4489, 4624, 4761, 4900, 5041, 5184, 5329, 5476, 5625, 5776, 5929, 6084, 6241, 6400, 6561, 6724, 6889, 7056, 7225, 7396, 7569, 7744, 7921, 8100, 8281, 8464, 8649, 8836, 9025, 9216, 9409, 9604, 9801, 10000]\n"
     ]
    }
   ],
   "source": [
    "println(\"For cycle:\")\n",
    "for i in 1:100\n",
    "    print(i, \"->\", i^2, \" \")\n",
    "end\n",
    "println()\n",
    "println(\"\\nWhile cycle:\")\n",
    "i = 1\n",
    "while i <= 100\n",
    "    print(i, \"->\", i^2, \" \")\n",
    "    i += 1\n",
    "end\n",
    "println()\n",
    "squares = Dict(i => i^2 for i = 1:20)\n",
    "squares = Dict{Int, Int}()\n",
    "i = 1\n",
    "while i <= 20\n",
    "    squares[i] = i^2\n",
    "    i += 1\n",
    "end\n",
    "println(\"\\nSquares dict:\")\n",
    "println(squares)\n",
    "\n",
    "squares_arr = [i^2 for i in 1:100]\n",
    "squares_arr = []\n",
    "i = 1\n",
    "while i <= 100\n",
    "    push!(squares_arr, i^2)\n",
    "    i += 1\n",
    "end\n",
    "println(\"\\nSquares array:\")\n",
    "println(squares_arr)"
   ]
  },
  {
   "cell_type": "code",
   "execution_count": 2,
   "id": "935c2701-03fa-4a35-959c-6728d175c573",
   "metadata": {},
   "outputs": [
    {
     "name": "stdin",
     "output_type": "stream",
     "text": [
      "stdin>  3\n"
     ]
    },
    {
     "name": "stdout",
     "output_type": "stream",
     "text": [
      "Нечётное\n"
     ]
    }
   ],
   "source": [
    "a = parse(Int, readline())\n",
    "if isodd(a) \n",
    "    println(\"Нечётное\") \n",
    "else\n",
    "    println(a) \n",
    "end"
   ]
  },
  {
   "cell_type": "code",
   "execution_count": 3,
   "id": "e3905319-ae8a-4282-837e-06acc574846a",
   "metadata": {},
   "outputs": [
    {
     "name": "stdin",
     "output_type": "stream",
     "text": [
      "stdin>  2\n"
     ]
    },
    {
     "name": "stdout",
     "output_type": "stream",
     "text": [
      "3\n"
     ]
    },
    {
     "name": "stdin",
     "output_type": "stream",
     "text": [
      "stdin>  1\n"
     ]
    },
    {
     "name": "stdout",
     "output_type": "stream",
     "text": [
      "2\n"
     ]
    },
    {
     "name": "stdin",
     "output_type": "stream",
     "text": [
      "stdin>  4\n"
     ]
    },
    {
     "name": "stdout",
     "output_type": "stream",
     "text": [
      "5\n"
     ]
    }
   ],
   "source": [
    "function add_one(numb) \n",
    "    println(numb + 1) \n",
    "end\n",
    "\n",
    "for i in 1:3\n",
    "    a = parse(Int, readline())\n",
    "    add_one(a)\n",
    "end"
   ]
  },
  {
   "cell_type": "code",
   "execution_count": 4,
   "id": "ed355172-c45a-492d-984d-b8feb2ae654b",
   "metadata": {},
   "outputs": [
    {
     "name": "stdout",
     "output_type": "stream",
     "text": [
      "Matrix1:\n"
     ]
    },
    {
     "data": {
      "text/plain": [
       "4×5 Matrix{Int64}:\n",
       " 1  5   9  13  17\n",
       " 2  6  10  14  18\n",
       " 3  7  11  15  19\n",
       " 4  8  12  16  20"
      ]
     },
     "metadata": {},
     "output_type": "display_data"
    },
    {
     "name": "stdout",
     "output_type": "stream",
     "text": [
      "\n",
      "Matrix2:\n"
     ]
    },
    {
     "data": {
      "text/plain": [
       "4×5 Matrix{Int64}:\n",
       " 1  5   9  13  17\n",
       " 2  6  10  14  18\n",
       " 3  7  11  15  19\n",
       " 4  8  12  16  20"
      ]
     },
     "metadata": {},
     "output_type": "display_data"
    }
   ],
   "source": [
    "println(\"Matrix1:\")\n",
    "matrix1 = map(x -> x, reshape(Array(1:20), 4, 5))\n",
    "display(matrix1)\n",
    "\n",
    "println(\"\\nMatrix2:\")\n",
    "matrix2 = broadcast(x -> x, reshape(Array(1:20), 4, 5))\n",
    "display(matrix2)"
   ]
  },
  {
   "cell_type": "code",
   "execution_count": 5,
   "id": "f4df326f-e082-4cde-ba3e-89bfaced29b4",
   "metadata": {},
   "outputs": [
    {
     "name": "stdout",
     "output_type": "stream",
     "text": [
      "Matrix:\n"
     ]
    },
    {
     "data": {
      "text/plain": [
       "3×3 Matrix{Int64}:\n",
       "  1   1   3\n",
       "  5   2   6\n",
       " -2  -1  -3"
      ]
     },
     "metadata": {},
     "output_type": "display_data"
    },
    {
     "name": "stdout",
     "output_type": "stream",
     "text": [
      "\n",
      "Matrix^3:\n"
     ]
    },
    {
     "data": {
      "text/plain": [
       "3×3 Matrix{Int64}:\n",
       "   1   1   27\n",
       " 125   8  216\n",
       "  -8  -1  -27"
      ]
     },
     "metadata": {},
     "output_type": "display_data"
    },
    {
     "name": "stdout",
     "output_type": "stream",
     "text": [
      "\n",
      "Matrix with sum:\n"
     ]
    },
    {
     "data": {
      "text/plain": [
       "3×3 Matrix{Int64}:\n",
       "  1   1   2\n",
       "  5   2   7\n",
       " -2  -1  -3"
      ]
     },
     "metadata": {},
     "output_type": "display_data"
    }
   ],
   "source": [
    "A = [1 1 3; 5 2 6; -2 -1 -3]\n",
    "println(\"Matrix:\")\n",
    "display(A)\n",
    "\n",
    "println(\"\\nMatrix^3:\")\n",
    "display(A.^3)\n",
    "\n",
    "for i in 1:3 \n",
    "    A[i, 3] = A[i, 1] + A[i, 2] \n",
    "end\n",
    "\n",
    "println(\"\\nMatrix with sum:\")\n",
    "display(A)"
   ]
  },
  {
   "cell_type": "code",
   "execution_count": 6,
   "id": "455af20e-b57a-4bd5-a6ee-2db53eca2261",
   "metadata": {},
   "outputs": [
    {
     "name": "stdout",
     "output_type": "stream",
     "text": [
      "\n",
      "Muliplication matrix:\n"
     ]
    },
    {
     "data": {
      "text/plain": [
       "3×3 Matrix{Float64}:\n",
       "  1500.0  -1500.0   1500.0\n",
       " -1500.0   1500.0  -1500.0\n",
       "  1500.0  -1500.0   1500.0"
      ]
     },
     "metadata": {},
     "output_type": "display_data"
    }
   ],
   "source": [
    "B = zeros(15, 3)\n",
    "\n",
    "for i in 1:15 \n",
    "    B[i,1] = 10\n",
    "    B[i,2] = -10\n",
    "    B[i,3] = 10\n",
    "end\n",
    "\n",
    "Bt = transpose(B)\n",
    "C = Bt * B\n",
    "\n",
    "println(\"\\nMuliplication matrix:\")\n",
    "display(C)"
   ]
  },
  {
   "cell_type": "code",
   "execution_count": 8,
   "id": "38632f8a-37a1-4740-bea8-0bce983ae353",
   "metadata": {},
   "outputs": [
    {
     "name": "stdout",
     "output_type": "stream",
     "text": [
      "Z1:\n"
     ]
    },
    {
     "data": {
      "text/plain": [
       "6-element Vector{Vector{Int64}}:\n",
       " [0, 1, 0, 0, 0, 0]\n",
       " [1, 0, 1, 0, 0, 0]\n",
       " [0, 1, 0, 1, 0, 0]\n",
       " [0, 0, 1, 0, 1, 0]\n",
       " [0, 0, 0, 1, 0, 1]\n",
       " [0, 0, 0, 0, 1, 0]"
      ]
     },
     "metadata": {},
     "output_type": "display_data"
    },
    {
     "name": "stdout",
     "output_type": "stream",
     "text": [
      "\n",
      "Z2:\n"
     ]
    },
    {
     "data": {
      "text/plain": [
       "6-element Vector{Vector{Int64}}:\n",
       " [1, 0, 1, 0, 0, 0]\n",
       " [0, 1, 0, 1, 0, 0]\n",
       " [1, 0, 1, 0, 1, 0]\n",
       " [0, 1, 0, 1, 0, 1]\n",
       " [0, 0, 1, 0, 1, 0]\n",
       " [0, 0, 0, 1, 0, 1]"
      ]
     },
     "metadata": {},
     "output_type": "display_data"
    },
    {
     "name": "stdout",
     "output_type": "stream",
     "text": [
      "\n",
      "Z3:\n"
     ]
    },
    {
     "data": {
      "text/plain": [
       "6-element Vector{Vector{Int64}}:\n",
       " [0, 0, 0, 1, 0, 1]\n",
       " [0, 0, 1, 0, 1, 0]\n",
       " [0, 1, 0, 1, 0, 1]\n",
       " [1, 0, 1, 0, 1, 0]\n",
       " [0, 1, 0, 1, 0, 0]\n",
       " [1, 0, 1, 0, 0, 0]"
      ]
     },
     "metadata": {},
     "output_type": "display_data"
    },
    {
     "name": "stdout",
     "output_type": "stream",
     "text": [
      "\n",
      "Z4:\n"
     ]
    },
    {
     "data": {
      "text/plain": [
       "6-element Vector{Vector{Int64}}:\n",
       " [1, 0, 1, 0, 1, 0]\n",
       " [0, 1, 0, 1, 0, 1]\n",
       " [1, 0, 1, 0, 1, 0]\n",
       " [0, 1, 0, 1, 0, 1]\n",
       " [1, 0, 1, 0, 1, 0]\n",
       " [0, 1, 0, 1, 0, 1]"
      ]
     },
     "metadata": {},
     "output_type": "display_data"
    }
   ],
   "source": [
    "matrix1 = [[if i-j in [1, -1] 1 else 0 end for j in 1:6] for i in 1:6]\n",
    "hcat(matrix1...)\n",
    "println(\"Z1:\")\n",
    "display(matrix1)\n",
    "\n",
    "matrix2 = [[if i-j in [2, 0, -2] 1 else 0 end for j in 1:6] for i in 1:6]\n",
    "hcat(matrix2...)\n",
    "println(\"\\nZ2:\")\n",
    "display(matrix2)\n",
    "\n",
    "matrix3 = [[if i+j in [5, 7, 9] 1 else 0 end for j in 1:6] for i in 1:6]\n",
    "hcat(matrix3...)\n",
    "println(\"\\nZ3:\")\n",
    "display(matrix3)\n",
    "\n",
    "matrix4 = [[if i-j in [4, 2, 0, -2, -4] 1 else 0 end for j in 1:6] for i in 1:6]\n",
    "hcat(matrix4...)\n",
    "println(\"\\nZ4:\")\n",
    "display(matrix4)"
   ]
  },
  {
   "cell_type": "code",
   "execution_count": 9,
   "id": "a392768e-b4fe-4da2-a698-cf0625381de5",
   "metadata": {},
   "outputs": [
    {
     "name": "stdout",
     "output_type": "stream",
     "text": [
      "Source matrices:\n"
     ]
    },
    {
     "data": {
      "text/plain": [
       "6×2 Matrix{Int64}:\n",
       " 1  2\n",
       " 1  2\n",
       " 1  3\n",
       " 1  1\n",
       " 3  1\n",
       " 2  5"
      ]
     },
     "metadata": {},
     "output_type": "display_data"
    },
    {
     "data": {
      "text/plain": [
       "2×6 Matrix{Int64}:\n",
       " 2  3  4  2  5  2\n",
       " 3  4  5  2  3  4"
      ]
     },
     "metadata": {},
     "output_type": "display_data"
    },
    {
     "name": "stdout",
     "output_type": "stream",
     "text": [
      "\n",
      "Sum matrix:\n"
     ]
    },
    {
     "data": {
      "text/plain": [
       "6×6 transpose(::Matrix{Int64}) with eltype Int64:\n",
       "  8  10  12   7  11   9\n",
       "  8  10  12   7  11   9\n",
       "  9  11  13   8  12  10\n",
       "  7   9  11   6  10   8\n",
       "  9  11  13   8  12  10\n",
       " 12  14  16  11  15  13"
      ]
     },
     "metadata": {},
     "output_type": "display_data"
    },
    {
     "name": "stdout",
     "output_type": "stream",
     "text": [
      "\n",
      "Sub matrix:\n"
     ]
    },
    {
     "data": {
      "text/plain": [
       "6×6 transpose(::Matrix{Int64}) with eltype Int64:\n",
       " -2  -4  -6  -1  -5  -3\n",
       " -2  -4  -6  -1  -5  -3\n",
       " -1  -3  -5   0  -4  -2\n",
       " -3  -5  -7  -2  -6  -4\n",
       " -1  -3  -5   0  -4  -2\n",
       "  2   0  -2   3  -1   1"
      ]
     },
     "metadata": {},
     "output_type": "display_data"
    },
    {
     "name": "stdout",
     "output_type": "stream",
     "text": [
      "\n",
      "Mul matrix:\n"
     ]
    },
    {
     "data": {
      "text/plain": [
       "6×6 transpose(::Matrix{Int64}) with eltype Int64:\n",
       "  8  11  14   6  11  10\n",
       "  8  11  14   6  11  10\n",
       " 11  15  19   8  14  14\n",
       "  5   7   9   4   8   6\n",
       "  9  13  17   8  18  10\n",
       " 19  26  33  14  25  24"
      ]
     },
     "metadata": {},
     "output_type": "display_data"
    },
    {
     "name": "stdout",
     "output_type": "stream",
     "text": [
      "\n",
      "Div matrix:\n"
     ]
    },
    {
     "data": {
      "text/plain": [
       "6×6 transpose(::Matrix{Float64}) with eltype Float64:\n",
       " 1.16667   0.833333  0.65  1.5  0.866667  1.0\n",
       " 1.16667   0.833333  0.65  1.5  0.866667  1.0\n",
       " 1.5       1.08333   0.85  2.0  1.2       1.25\n",
       " 0.833333  0.583333  0.45  1.0  0.533333  0.75\n",
       " 1.83333   1.25      0.95  2.0  0.933333  1.75\n",
       " 2.66667   1.91667   1.5   3.5  2.06667   2.25"
      ]
     },
     "metadata": {},
     "output_type": "display_data"
    },
    {
     "name": "stdout",
     "output_type": "stream",
     "text": [
      "\n",
      "Pow matrix:\n"
     ]
    },
    {
     "data": {
      "text/plain": [
       "6×6 transpose(::Matrix{Int64}) with eltype Int64:\n",
       "   9   17    33   5    9   17\n",
       "   9   17    33   5    9   17\n",
       "  28   82   244  10   28   82\n",
       "   2    2     2   2    2    2\n",
       "  10   28    82  10  244   10\n",
       " 129  633  3141  29  157  629"
      ]
     },
     "metadata": {},
     "output_type": "display_data"
    },
    {
     "name": "stdout",
     "output_type": "stream",
     "text": [
      "\n",
      "A1:\n"
     ]
    },
    {
     "data": {
      "text/plain": [
       "5×5 transpose(::Matrix{Int64}) with eltype Int64:\n",
       " 0  1  2  3  4\n",
       " 1  2  3  4  5\n",
       " 2  3  4  5  6\n",
       " 3  4  5  6  7\n",
       " 4  5  6  7  8"
      ]
     },
     "metadata": {},
     "output_type": "display_data"
    },
    {
     "name": "stdout",
     "output_type": "stream",
     "text": [
      "\n",
      "A2:\n",
      "[0 0 0 0 0; 1 1 1 1 1; 2 4 8 16 32; 3 9 27 81 243; 4 16 64 256 1024]\n",
      "\n",
      "A3:\n"
     ]
    },
    {
     "data": {
      "text/plain": [
       "5×5 transpose(::Matrix{Int64}) with eltype Int64:\n",
       " 0  1  2  3  4\n",
       " 1  2  3  4  0\n",
       " 2  3  4  0  1\n",
       " 3  4  0  1  2\n",
       " 4  0  1  2  3"
      ]
     },
     "metadata": {},
     "output_type": "display_data"
    },
    {
     "name": "stdout",
     "output_type": "stream",
     "text": [
      "\n",
      "A4:\n"
     ]
    },
    {
     "data": {
      "text/plain": [
       "10×10 transpose(::Matrix{Int64}) with eltype Int64:\n",
       " 0  1  2  3  4  5  6  7  8  9\n",
       " 1  2  3  4  5  6  7  8  9  0\n",
       " 2  3  4  5  6  7  8  9  0  1\n",
       " 3  4  5  6  7  8  9  0  1  2\n",
       " 4  5  6  7  8  9  0  1  2  3\n",
       " 5  6  7  8  9  0  1  2  3  4\n",
       " 6  7  8  9  0  1  2  3  4  5\n",
       " 7  8  9  0  1  2  3  4  5  6\n",
       " 8  9  0  1  2  3  4  5  6  7\n",
       " 9  0  1  2  3  4  5  6  7  8"
      ]
     },
     "metadata": {},
     "output_type": "display_data"
    },
    {
     "name": "stdout",
     "output_type": "stream",
     "text": [
      "\n",
      "A5:\n"
     ]
    },
    {
     "data": {
      "text/plain": [
       "9×9 transpose(::Matrix{Int64}) with eltype Int64:\n",
       " 0  1  2  3  4  5  6  7  8\n",
       " 8  0  1  2  3  4  5  6  7\n",
       " 7  8  0  1  2  3  4  5  6\n",
       " 6  7  8  0  1  2  3  4  5\n",
       " 5  6  7  8  0  1  2  3  4\n",
       " 4  5  6  7  8  0  1  2  3\n",
       " 3  4  5  6  7  8  0  1  2\n",
       " 2  3  4  5  6  7  8  0  1\n",
       " 1  2  3  4  5  6  7  8  0"
      ]
     },
     "metadata": {},
     "output_type": "display_data"
    }
   ],
   "source": [
    "outer(x, y, operation) = transpose(hcat([[sum(operation(x[i, k], y[k, j]) for k in 1:size(x)[2]) for j in 1:size(y)[2]] for i in 1:size(x)[1]]...))\n",
    "\n",
    "B = reshape(rand(1:5, 12), 2, 6)\n",
    "A = reshape(rand(1:5, 12), 6, 2)\n",
    "println(\"Source matrices:\")\n",
    "display(A)\n",
    "display(B)\n",
    "println(\"\\nSum matrix:\")\n",
    "display(outer(A, B, +))\n",
    "\n",
    "println(\"\\nSub matrix:\")\n",
    "display(outer(A, B, -))\n",
    "\n",
    "println(\"\\nMul matrix:\")\n",
    "display(outer(A, B, *))\n",
    "\n",
    "println(\"\\nDiv matrix:\")\n",
    "display(outer(A, B, /))\n",
    "\n",
    "println(\"\\nPow matrix:\")\n",
    "display(outer(A, B, ^))\n",
    "\n",
    "println(\"\\nA1:\")\n",
    "display(outer(reshape(0:4, 5, 1), reshape(0:4, 1, 5), +))\n",
    "\n",
    "println(\"\\nA2:\")\n",
    "println(outer(reshape(0:4, 5, 1), reshape(1:5, 1, 5), ^))\n",
    "\n",
    "println(\"\\nA3:\")\n",
    "display(outer(hcat([[if i==j 1 else 0 end for j in 0:4] for i in 0:4]...), hcat([Vector(i:i+4).%5 for i in 0:4]...), *))\n",
    "\n",
    "println(\"\\nA4:\")\n",
    "display(outer(hcat([[if i==j 1 else 0 end for j in 0:9] for i in 0:9]...), hcat([Vector(i:i+9).%10 for i in 0:9]...), *))\n",
    "\n",
    "println(\"\\nA5:\")\n",
    "display(outer(hcat([[if i==j 1 else 0 end for j in 0:8] for i in 0:8]...), hcat([Vector(i+9:-1:i+1).%9 for i in 0:8]...), *))"
   ]
  },
  {
   "cell_type": "code",
   "execution_count": 10,
   "id": "15caf861-f33a-4c22-90dc-461218b141aa",
   "metadata": {},
   "outputs": [
    {
     "name": "stdout",
     "output_type": "stream",
     "text": [
      "Solution Vector: \n"
     ]
    },
    {
     "data": {
      "text/plain": [
       "5-element Vector{Float64}:\n",
       " -2.0000000000000036\n",
       "  3.0000000000000058\n",
       "  4.999999999999998\n",
       "  1.9999999999999991\n",
       " -3.999999999999999"
      ]
     },
     "metadata": {},
     "output_type": "display_data"
    }
   ],
   "source": [
    "M = [1 2 3 4 5; 2 1 2 3 4; 3 2 1 2 3; 4 3 2 1 2; 5 4 3 2 1]\n",
    "N = [7, -1, -3, 5, 17]\n",
    "println(\"Solution Vector: \")\n",
    "display(M \\ N)"
   ]
  },
  {
   "cell_type": "code",
   "execution_count": 18,
   "id": "84fbfea5-ed8f-4f37-abf2-231fab15801c",
   "metadata": {},
   "outputs": [
    {
     "name": "stdout",
     "output_type": "stream",
     "text": [
      "Matrix: \n"
     ]
    },
    {
     "data": {
      "text/plain": [
       "6×10 Matrix{Int64}:\n",
       " 9   2  5  2  10   6  6  5   8  6\n",
       " 6   5  3  4   7   9  9  5   3  4\n",
       " 6  10  4  4  10   6  5  4   1  8\n",
       " 4   5  3  7   6  10  9  9  10  3\n",
       " 7   3  2  3   2  10  5  1   4  9\n",
       " 5   5  6  2   2   2  2  2   1  6"
      ]
     },
     "metadata": {},
     "output_type": "display_data"
    },
    {
     "name": "stdout",
     "output_type": "stream",
     "text": [
      "The amount of numbers, greater than N: \n",
      "Any[6, 4, 5, 6, 3, 2]\n",
      "\n",
      "The amount of numbers, that equal M: \n",
      "Any[0, 1, 0, 1, 1, 0]\n",
      "\n",
      "The amount of column pairs, sum of which is greater than K: \n",
      "[(1, 6), (5, 6), (6, 7), (6, 10)]\n"
     ]
    }
   ],
   "source": [
    "matrix = rand(1:10, 6, 10)\n",
    "println(\"Matrix: \")\n",
    "display(matrix)\n",
    "num = 5\n",
    "\n",
    "ans_vec1 = []\n",
    "for i in 1:size(matrix)[1]\n",
    "    counter = 0\n",
    "    for j in 1:size(matrix)[2]\n",
    "            if matrix[i, j] > num\n",
    "                counter = counter +1\n",
    "            end\n",
    "    end\n",
    "    push!(ans_vec1, counter)\n",
    "end\n",
    "println(\"The amount of numbers, greater than N: \")\n",
    "println(ans_vec1)\n",
    "\n",
    "\n",
    "ans_vec2 = []\n",
    "M = 7\n",
    "for i in 1:size(matrix)[1]\n",
    "    counter = 0\n",
    "    for j in 1:size(matrix)[2]\n",
    "            if matrix[i, j] == M\n",
    "                counter = counter + 1\n",
    "        end\n",
    "    end\n",
    "    push!(ans_vec2, counter)\n",
    "end\n",
    "println(\"\\nThe amount of numbers, that equal M: \")\n",
    "println(ans_vec2)\n",
    "\n",
    "K = 75\n",
    "ans_vec3 = [(i, j) for i in 1:size(matrix)[2]-1 for j in i+1:size(matrix)[2] if sum(matrix[:, i] + matrix[:, j]) > K]\n",
    "println(\"\\nThe amount of column pairs, sum of which is greater than K: \")\n",
    "println(ans_vec3)"
   ]
  },
  {
   "cell_type": "code",
   "execution_count": 20,
   "id": "2bc44e20-c20d-41cd-a928-9f42b52b7599",
   "metadata": {},
   "outputs": [
    {
     "data": {
      "text/plain": [
       "639215.2833333333"
      ]
     },
     "metadata": {},
     "output_type": "display_data"
    },
    {
     "data": {
      "text/plain": [
       "89912.02146097136"
      ]
     },
     "metadata": {},
     "output_type": "display_data"
    }
   ],
   "source": [
    "A = [[i^4/(3+j) for j in 1:5] for i in 1:20]\n",
    "B = [[i^4/(3+i*j) for j in 1:5] for i in 1:20]\n",
    "display(sum(sum(A)))\n",
    "display(sum(sum(B)))"
   ]
  },
  {
   "cell_type": "code",
   "execution_count": null,
   "id": "7184a0c7-4f8e-48fb-ac7d-959c0a7767f3",
   "metadata": {},
   "outputs": [],
   "source": []
  }
 ],
 "metadata": {
  "kernelspec": {
   "display_name": "Julia 1.9.3",
   "language": "julia",
   "name": "julia-1.9"
  },
  "language_info": {
   "file_extension": ".jl",
   "mimetype": "application/julia",
   "name": "julia",
   "version": "1.9.3"
  }
 },
 "nbformat": 4,
 "nbformat_minor": 5
}
